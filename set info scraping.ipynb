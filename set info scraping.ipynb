{
 "cells": [
  {
   "cell_type": "code",
   "execution_count": 1,
   "metadata": {},
   "outputs": [],
   "source": [
    "import requests\n",
    "from bs4 import BeautifulSoup\n",
    "import re\n",
    "import numpy as np\n",
    "import pandas as pd"
   ]
  },
  {
   "cell_type": "code",
   "execution_count": 54,
   "metadata": {},
   "outputs": [],
   "source": [
    "set_name = []\n",
    "set_id = []\n",
    "set_year = []\n",
    "set_size = []\n",
    "\n",
    "response = requests.get(\"https://scryfall.com/sets?type=core\")\n",
    "html = BeautifulSoup(response.content, 'html.parser')\n",
    "\n",
    "table = html.find(\"table\")\n",
    "table_rows = table.find_all('tr')\n",
    "for tr in table_rows:\n",
    "    td = tr.find_all('td')\n",
    "    row = [i.text.replace(\"\\n\", \"\") for i in td]\n",
    "    if len(row) > 1:\n",
    "        wrds = row[0].strip().split(\" \")[0:-1]\n",
    "        set_name.append(\" \".join(wrds))\n",
    "        set_id.append(row[0].strip().split(\" \")[-1].lower())\n",
    "        set_size.append(row[1])\n",
    "        set_year.append(row[2].split(\"-\")[0])\n",
    "\n",
    "response = requests.get(\"https://scryfall.com/sets?type=expansion\")\n",
    "html = BeautifulSoup(response.content, 'html.parser')\n",
    "\n",
    "table = html.find(\"table\")\n",
    "table_rows = table.find_all('tr')\n",
    "for tr in table_rows:\n",
    "    td = tr.find_all('td')\n",
    "    row = [i.text.replace(\"\\n\", \"\") for i in td]\n",
    "    if len(row) > 1:\n",
    "        wrds = row[0].strip().split(\" \")[0:-1]\n",
    "        set_name.append(\" \".join(wrds))\n",
    "        set_id.append(row[0].strip().split(\" \")[-1].lower())\n",
    "        set_size.append(row[1])\n",
    "        set_year.append(row[2].split(\"-\")[0])"
   ]
  },
  {
   "cell_type": "code",
   "execution_count": 62,
   "metadata": {},
   "outputs": [],
   "source": [
    "data = {\"set_name\": set_name, \"set_id\": set_id, \"set_size\": set_size, \"set_year\": set_year}\n",
    "df = pd.DataFrame(data)\n",
    "df.to_csv(\".\\data\\main_set_info.csv\", index = False)"
   ]
  }
 ],
 "metadata": {
  "kernelspec": {
   "display_name": "Python 3",
   "language": "python",
   "name": "python3"
  },
  "language_info": {
   "codemirror_mode": {
    "name": "ipython",
    "version": 3
   },
   "file_extension": ".py",
   "mimetype": "text/x-python",
   "name": "python",
   "nbconvert_exporter": "python",
   "pygments_lexer": "ipython3",
   "version": "3.7.3"
  }
 },
 "nbformat": 4,
 "nbformat_minor": 2
}
